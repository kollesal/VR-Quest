{
 "cells": [
  {
   "cell_type": "markdown",
   "metadata": {},
   "source": [
    "# Drinking Task Pipeline\n"
   ]
  },
  {
   "cell_type": "markdown",
   "metadata": {},
   "source": [
    "Diese Pipeline führt eine Klassifikation von Trinkbewegungen durch.\n",
    "\n",
    "Die Elemente, welche angepasst werden können, um Ansätze auszuprobieren, wurden mit ✏️ gekennzeichnet.\n",
    "\n",
    "#### Geeignete Parameter (Beispiel):\n",
    "\n",
    "**3.2 Ansatz auswählen**\n",
    "- Ansatz 1: Absolute Datenpunkte mit geschnittenen Videos\n",
    "- n_frames: **38**\n",
    "    \n",
    "**4.3 Modell anwenden**\n",
    "- n_neurons: **64**\n",
    "- RNN-Modell"
   ]
  },
  {
   "cell_type": "markdown",
   "metadata": {},
   "source": [
    "# 1. Import Dependecies"
   ]
  },
  {
   "cell_type": "code",
   "execution_count": 50,
   "metadata": {
    "metadata": {}
   },
   "outputs": [],
   "source": [
    "import pandas as pd\n",
    "import numpy as np\n",
    "\n",
    "from matplotlib import pyplot as plt\n",
    "\n",
    "from sklearn.model_selection import train_test_split\n",
    "from sklearn.metrics import confusion_matrix, accuracy_score\n",
    "\n",
    "from tensorflow import keras\n",
    "from tensorflow.keras import layers\n",
    "\n",
    "from sklearn.model_selection import RandomizedSearchCV\n",
    "\n",
    "import math"
   ]
  },
  {
   "cell_type": "markdown",
   "metadata": {},
   "source": [
    "# 2. Landmarks extrahieren"
   ]
  },
  {
   "cell_type": "code",
   "execution_count": 51,
   "metadata": {
    "metadata": {}
   },
   "outputs": [],
   "source": [
    "def extract_landmarks_normal():\n",
    "    %run extract_landmarks.py --video-dir data/video/normal --output-file data/landmarks_normal.csv"
   ]
  },
  {
   "cell_type": "code",
   "execution_count": 52,
   "metadata": {
    "metadata": {}
   },
   "outputs": [],
   "source": [
    "def extract_landmarks_compensation():\n",
    "    %run extract_landmarks.py --video-dir data/video/compensation --output-file data/landmarks_compensation.csv"
   ]
  },
  {
   "cell_type": "code",
   "execution_count": 53,
   "metadata": {
    "metadata": {}
   },
   "outputs": [],
   "source": [
    "# Falls die Landmarks neu extrahiert werden sollen, folgende Befehle auskommentieren: ✏️\n",
    "# extract_landmarks_normal()\n",
    "# extract_landmarks_compensation()"
   ]
  },
  {
   "cell_type": "markdown",
   "metadata": {},
   "source": [
    "# 3. Data Pre-Processing"
   ]
  },
  {
   "cell_type": "code",
   "execution_count": 54,
   "metadata": {},
   "outputs": [
    {
     "data": {
      "text/html": [
       "<div>\n",
       "<style scoped>\n",
       "    .dataframe tbody tr th:only-of-type {\n",
       "        vertical-align: middle;\n",
       "    }\n",
       "\n",
       "    .dataframe tbody tr th {\n",
       "        vertical-align: top;\n",
       "    }\n",
       "\n",
       "    .dataframe thead th {\n",
       "        text-align: right;\n",
       "    }\n",
       "</style>\n",
       "<table border=\"1\" class=\"dataframe\">\n",
       "  <thead>\n",
       "    <tr style=\"text-align: right;\">\n",
       "      <th></th>\n",
       "      <th>path</th>\n",
       "      <th>frame</th>\n",
       "      <th>compensation</th>\n",
       "      <th>x_0</th>\n",
       "      <th>y_0</th>\n",
       "      <th>z_0</th>\n",
       "      <th>x_1</th>\n",
       "      <th>y_1</th>\n",
       "      <th>z_1</th>\n",
       "      <th>x_2</th>\n",
       "      <th>...</th>\n",
       "      <th>z_29</th>\n",
       "      <th>x_30</th>\n",
       "      <th>y_30</th>\n",
       "      <th>z_30</th>\n",
       "      <th>x_31</th>\n",
       "      <th>y_31</th>\n",
       "      <th>z_31</th>\n",
       "      <th>x_32</th>\n",
       "      <th>y_32</th>\n",
       "      <th>z_32</th>\n",
       "    </tr>\n",
       "  </thead>\n",
       "  <tbody>\n",
       "    <tr>\n",
       "      <th>0</th>\n",
       "      <td>data/video/compensation\\01_trinken_kompensatio...</td>\n",
       "      <td>1</td>\n",
       "      <td>1</td>\n",
       "      <td>1000.09450</td>\n",
       "      <td>295.08030</td>\n",
       "      <td>-434.73780</td>\n",
       "      <td>1016.1854</td>\n",
       "      <td>265.61652</td>\n",
       "      <td>-381.51593</td>\n",
       "      <td>1025.4126</td>\n",
       "      <td>...</td>\n",
       "      <td>-142.551970</td>\n",
       "      <td>952.20350</td>\n",
       "      <td>1076.1581</td>\n",
       "      <td>-163.268000</td>\n",
       "      <td>1083.4438</td>\n",
       "      <td>1195.5463</td>\n",
       "      <td>-371.589500</td>\n",
       "      <td>882.91846</td>\n",
       "      <td>1209.9233</td>\n",
       "      <td>-408.50876</td>\n",
       "    </tr>\n",
       "    <tr>\n",
       "      <th>239</th>\n",
       "      <td>data/video/compensation\\02_trinken_kompensatio...</td>\n",
       "      <td>1</td>\n",
       "      <td>1</td>\n",
       "      <td>1004.91460</td>\n",
       "      <td>272.73907</td>\n",
       "      <td>-510.62988</td>\n",
       "      <td>1019.1108</td>\n",
       "      <td>241.79927</td>\n",
       "      <td>-459.76190</td>\n",
       "      <td>1028.6346</td>\n",
       "      <td>...</td>\n",
       "      <td>-329.010470</td>\n",
       "      <td>894.49110</td>\n",
       "      <td>1262.0361</td>\n",
       "      <td>-357.484380</td>\n",
       "      <td>1198.8416</td>\n",
       "      <td>1341.8446</td>\n",
       "      <td>-638.522160</td>\n",
       "      <td>827.46140</td>\n",
       "      <td>1330.2144</td>\n",
       "      <td>-690.30240</td>\n",
       "    </tr>\n",
       "    <tr>\n",
       "      <th>529</th>\n",
       "      <td>data/video/compensation\\03_trinken_kompensatio...</td>\n",
       "      <td>1</td>\n",
       "      <td>1</td>\n",
       "      <td>1020.42883</td>\n",
       "      <td>267.42682</td>\n",
       "      <td>-428.96457</td>\n",
       "      <td>1037.8142</td>\n",
       "      <td>237.42938</td>\n",
       "      <td>-372.71088</td>\n",
       "      <td>1048.0687</td>\n",
       "      <td>...</td>\n",
       "      <td>-39.149357</td>\n",
       "      <td>917.36487</td>\n",
       "      <td>1188.9327</td>\n",
       "      <td>-127.484695</td>\n",
       "      <td>1046.4462</td>\n",
       "      <td>1207.4360</td>\n",
       "      <td>-247.560130</td>\n",
       "      <td>865.76776</td>\n",
       "      <td>1265.4349</td>\n",
       "      <td>-387.39243</td>\n",
       "    </tr>\n",
       "    <tr>\n",
       "      <th>828</th>\n",
       "      <td>data/video/compensation\\04_trinken_kompensatio...</td>\n",
       "      <td>1</td>\n",
       "      <td>1</td>\n",
       "      <td>1028.70000</td>\n",
       "      <td>259.41913</td>\n",
       "      <td>-509.90570</td>\n",
       "      <td>1046.9830</td>\n",
       "      <td>230.39180</td>\n",
       "      <td>-457.48190</td>\n",
       "      <td>1057.3713</td>\n",
       "      <td>...</td>\n",
       "      <td>171.714160</td>\n",
       "      <td>920.50530</td>\n",
       "      <td>1136.3898</td>\n",
       "      <td>-14.946421</td>\n",
       "      <td>1048.7849</td>\n",
       "      <td>1185.5167</td>\n",
       "      <td>-0.154483</td>\n",
       "      <td>862.41925</td>\n",
       "      <td>1285.5558</td>\n",
       "      <td>-266.17584</td>\n",
       "    </tr>\n",
       "    <tr>\n",
       "      <th>1174</th>\n",
       "      <td>data/video/compensation\\05_trinken_kompensatio...</td>\n",
       "      <td>1</td>\n",
       "      <td>1</td>\n",
       "      <td>1026.52210</td>\n",
       "      <td>290.28644</td>\n",
       "      <td>-331.21103</td>\n",
       "      <td>1041.6088</td>\n",
       "      <td>261.87927</td>\n",
       "      <td>-267.49520</td>\n",
       "      <td>1051.1260</td>\n",
       "      <td>...</td>\n",
       "      <td>-132.645080</td>\n",
       "      <td>915.38214</td>\n",
       "      <td>1191.8250</td>\n",
       "      <td>-372.592470</td>\n",
       "      <td>992.2608</td>\n",
       "      <td>1183.2690</td>\n",
       "      <td>-359.144100</td>\n",
       "      <td>862.46747</td>\n",
       "      <td>1262.1813</td>\n",
       "      <td>-689.38250</td>\n",
       "    </tr>\n",
       "    <tr>\n",
       "      <th>...</th>\n",
       "      <td>...</td>\n",
       "      <td>...</td>\n",
       "      <td>...</td>\n",
       "      <td>...</td>\n",
       "      <td>...</td>\n",
       "      <td>...</td>\n",
       "      <td>...</td>\n",
       "      <td>...</td>\n",
       "      <td>...</td>\n",
       "      <td>...</td>\n",
       "      <td>...</td>\n",
       "      <td>...</td>\n",
       "      <td>...</td>\n",
       "      <td>...</td>\n",
       "      <td>...</td>\n",
       "      <td>...</td>\n",
       "      <td>...</td>\n",
       "      <td>...</td>\n",
       "      <td>...</td>\n",
       "      <td>...</td>\n",
       "      <td>...</td>\n",
       "    </tr>\n",
       "    <tr>\n",
       "      <th>64581</th>\n",
       "      <td>/Users/salomekoller/Library/CloudStorage/OneDr...</td>\n",
       "      <td>1</td>\n",
       "      <td>0</td>\n",
       "      <td>1071.85000</td>\n",
       "      <td>322.31950</td>\n",
       "      <td>-286.50940</td>\n",
       "      <td>0.0000</td>\n",
       "      <td>0.00000</td>\n",
       "      <td>0.00000</td>\n",
       "      <td>0.0000</td>\n",
       "      <td>...</td>\n",
       "      <td>0.000000</td>\n",
       "      <td>0.00000</td>\n",
       "      <td>0.0000</td>\n",
       "      <td>0.000000</td>\n",
       "      <td>1124.9250</td>\n",
       "      <td>1121.7290</td>\n",
       "      <td>-296.097400</td>\n",
       "      <td>1043.86500</td>\n",
       "      <td>1122.5790</td>\n",
       "      <td>-284.53160</td>\n",
       "    </tr>\n",
       "    <tr>\n",
       "      <th>64787</th>\n",
       "      <td>/Users/salomekoller/Library/CloudStorage/OneDr...</td>\n",
       "      <td>1</td>\n",
       "      <td>0</td>\n",
       "      <td>1092.69400</td>\n",
       "      <td>330.29700</td>\n",
       "      <td>-399.08220</td>\n",
       "      <td>0.0000</td>\n",
       "      <td>0.00000</td>\n",
       "      <td>0.00000</td>\n",
       "      <td>0.0000</td>\n",
       "      <td>...</td>\n",
       "      <td>0.000000</td>\n",
       "      <td>0.00000</td>\n",
       "      <td>0.0000</td>\n",
       "      <td>0.000000</td>\n",
       "      <td>1143.7100</td>\n",
       "      <td>1129.6740</td>\n",
       "      <td>-412.846700</td>\n",
       "      <td>1062.85000</td>\n",
       "      <td>1130.4050</td>\n",
       "      <td>-399.40930</td>\n",
       "    </tr>\n",
       "    <tr>\n",
       "      <th>64994</th>\n",
       "      <td>/Users/salomekoller/Library/CloudStorage/OneDr...</td>\n",
       "      <td>1</td>\n",
       "      <td>0</td>\n",
       "      <td>1109.26300</td>\n",
       "      <td>504.19490</td>\n",
       "      <td>-467.08040</td>\n",
       "      <td>0.0000</td>\n",
       "      <td>0.00000</td>\n",
       "      <td>0.00000</td>\n",
       "      <td>0.0000</td>\n",
       "      <td>...</td>\n",
       "      <td>0.000000</td>\n",
       "      <td>0.00000</td>\n",
       "      <td>0.0000</td>\n",
       "      <td>0.000000</td>\n",
       "      <td>1199.6830</td>\n",
       "      <td>1139.6010</td>\n",
       "      <td>-368.618400</td>\n",
       "      <td>1120.19600</td>\n",
       "      <td>1139.6920</td>\n",
       "      <td>-348.77690</td>\n",
       "    </tr>\n",
       "    <tr>\n",
       "      <th>65199</th>\n",
       "      <td>/Users/salomekoller/Library/CloudStorage/OneDr...</td>\n",
       "      <td>1</td>\n",
       "      <td>0</td>\n",
       "      <td>1149.92300</td>\n",
       "      <td>501.24380</td>\n",
       "      <td>-400.91390</td>\n",
       "      <td>0.0000</td>\n",
       "      <td>0.00000</td>\n",
       "      <td>0.00000</td>\n",
       "      <td>0.0000</td>\n",
       "      <td>...</td>\n",
       "      <td>0.000000</td>\n",
       "      <td>0.00000</td>\n",
       "      <td>0.0000</td>\n",
       "      <td>0.000000</td>\n",
       "      <td>1204.8050</td>\n",
       "      <td>1301.5190</td>\n",
       "      <td>-372.496500</td>\n",
       "      <td>1126.71000</td>\n",
       "      <td>1301.8360</td>\n",
       "      <td>-347.29240</td>\n",
       "    </tr>\n",
       "    <tr>\n",
       "      <th>65405</th>\n",
       "      <td>/Users/salomekoller/Library/CloudStorage/OneDr...</td>\n",
       "      <td>1</td>\n",
       "      <td>0</td>\n",
       "      <td>1207.71200</td>\n",
       "      <td>674.55770</td>\n",
       "      <td>-283.07840</td>\n",
       "      <td>0.0000</td>\n",
       "      <td>0.00000</td>\n",
       "      <td>0.00000</td>\n",
       "      <td>0.0000</td>\n",
       "      <td>...</td>\n",
       "      <td>0.000000</td>\n",
       "      <td>0.00000</td>\n",
       "      <td>0.0000</td>\n",
       "      <td>0.000000</td>\n",
       "      <td>1269.7420</td>\n",
       "      <td>1469.7210</td>\n",
       "      <td>-261.234200</td>\n",
       "      <td>1193.81100</td>\n",
       "      <td>1470.5890</td>\n",
       "      <td>-230.22290</td>\n",
       "    </tr>\n",
       "  </tbody>\n",
       "</table>\n",
       "<p>624 rows × 102 columns</p>\n",
       "</div>"
      ],
      "text/plain": [
       "                                                    path  frame  compensation   \n",
       "0      data/video/compensation\\01_trinken_kompensatio...      1             1  \\\n",
       "239    data/video/compensation\\02_trinken_kompensatio...      1             1   \n",
       "529    data/video/compensation\\03_trinken_kompensatio...      1             1   \n",
       "828    data/video/compensation\\04_trinken_kompensatio...      1             1   \n",
       "1174   data/video/compensation\\05_trinken_kompensatio...      1             1   \n",
       "...                                                  ...    ...           ...   \n",
       "64581  /Users/salomekoller/Library/CloudStorage/OneDr...      1             0   \n",
       "64787  /Users/salomekoller/Library/CloudStorage/OneDr...      1             0   \n",
       "64994  /Users/salomekoller/Library/CloudStorage/OneDr...      1             0   \n",
       "65199  /Users/salomekoller/Library/CloudStorage/OneDr...      1             0   \n",
       "65405  /Users/salomekoller/Library/CloudStorage/OneDr...      1             0   \n",
       "\n",
       "              x_0        y_0        z_0        x_1        y_1        z_1   \n",
       "0      1000.09450  295.08030 -434.73780  1016.1854  265.61652 -381.51593  \\\n",
       "239    1004.91460  272.73907 -510.62988  1019.1108  241.79927 -459.76190   \n",
       "529    1020.42883  267.42682 -428.96457  1037.8142  237.42938 -372.71088   \n",
       "828    1028.70000  259.41913 -509.90570  1046.9830  230.39180 -457.48190   \n",
       "1174   1026.52210  290.28644 -331.21103  1041.6088  261.87927 -267.49520   \n",
       "...           ...        ...        ...        ...        ...        ...   \n",
       "64581  1071.85000  322.31950 -286.50940     0.0000    0.00000    0.00000   \n",
       "64787  1092.69400  330.29700 -399.08220     0.0000    0.00000    0.00000   \n",
       "64994  1109.26300  504.19490 -467.08040     0.0000    0.00000    0.00000   \n",
       "65199  1149.92300  501.24380 -400.91390     0.0000    0.00000    0.00000   \n",
       "65405  1207.71200  674.55770 -283.07840     0.0000    0.00000    0.00000   \n",
       "\n",
       "             x_2  ...        z_29       x_30       y_30        z_30   \n",
       "0      1025.4126  ... -142.551970  952.20350  1076.1581 -163.268000  \\\n",
       "239    1028.6346  ... -329.010470  894.49110  1262.0361 -357.484380   \n",
       "529    1048.0687  ...  -39.149357  917.36487  1188.9327 -127.484695   \n",
       "828    1057.3713  ...  171.714160  920.50530  1136.3898  -14.946421   \n",
       "1174   1051.1260  ... -132.645080  915.38214  1191.8250 -372.592470   \n",
       "...          ...  ...         ...        ...        ...         ...   \n",
       "64581     0.0000  ...    0.000000    0.00000     0.0000    0.000000   \n",
       "64787     0.0000  ...    0.000000    0.00000     0.0000    0.000000   \n",
       "64994     0.0000  ...    0.000000    0.00000     0.0000    0.000000   \n",
       "65199     0.0000  ...    0.000000    0.00000     0.0000    0.000000   \n",
       "65405     0.0000  ...    0.000000    0.00000     0.0000    0.000000   \n",
       "\n",
       "            x_31       y_31        z_31        x_32       y_32       z_32  \n",
       "0      1083.4438  1195.5463 -371.589500   882.91846  1209.9233 -408.50876  \n",
       "239    1198.8416  1341.8446 -638.522160   827.46140  1330.2144 -690.30240  \n",
       "529    1046.4462  1207.4360 -247.560130   865.76776  1265.4349 -387.39243  \n",
       "828    1048.7849  1185.5167   -0.154483   862.41925  1285.5558 -266.17584  \n",
       "1174    992.2608  1183.2690 -359.144100   862.46747  1262.1813 -689.38250  \n",
       "...          ...        ...         ...         ...        ...        ...  \n",
       "64581  1124.9250  1121.7290 -296.097400  1043.86500  1122.5790 -284.53160  \n",
       "64787  1143.7100  1129.6740 -412.846700  1062.85000  1130.4050 -399.40930  \n",
       "64994  1199.6830  1139.6010 -368.618400  1120.19600  1139.6920 -348.77690  \n",
       "65199  1204.8050  1301.5190 -372.496500  1126.71000  1301.8360 -347.29240  \n",
       "65405  1269.7420  1469.7210 -261.234200  1193.81100  1470.5890 -230.22290  \n",
       "\n",
       "[624 rows x 102 columns]"
      ]
     },
     "execution_count": 54,
     "metadata": {},
     "output_type": "execute_result"
    }
   ],
   "source": [
    "# Landmarks einlesen\n",
    "data_normal_original = pd.read_csv('data/landmarks_normal.csv')\n",
    "data_compensation_original = pd.read_csv('data/landmarks_compensation.csv')\n",
    "\n",
    "# Augmentierte Datenpunkte für Datenanalyse einlesen\n",
    "data_normal_augmented = pd.read_csv('../../AvatarDataAugmentation/Data/KeyPointsBereinigtNichtKompensiert_03.csv')\n",
    "data_compensation_augmented = pd.read_csv('../../AvatarDataAugmentation/Data/KeyPointsBereinigtKompensiert_01.csv')\n",
    "data_compensation_augmented2 = pd.read_csv('../../AvatarDataAugmentation/Data/KeyPointsBereinigtKompensiert_02.csv')\n",
    "\n",
    "# Zusätzliche aus Unity generierte Datenpuntke einlesen\n",
    "data_normal_augmented_unity = pd.read_csv('../../AvatarDataAugmentation/Data/KeypointsExportKompensiert.csv')\n",
    "data_compensation_augmented_unity = pd.read_csv('../../AvatarDataAugmentation/Data/KeypointsExportKompensiert.csv')\n",
    "\n",
    "data_normal = pd.concat([data_normal_original, data_normal_augmented, data_normal_augmented_unity], ignore_index=True) \n",
    "data_compensation = pd.concat([data_compensation_original, data_compensation_augmented2, data_compensation_augmented_unity], ignore_index=True) \n",
    "\n",
    "# Label setzen (Kompensation = 1, keine Kompensation = 0)\n",
    "data_compensation.compensation = 1\n",
    "data_normal.compensation = 0\n",
    "\n",
    "data = pd.concat([data_compensation, data_normal], axis=0)\n",
    "data[data.frame == 1]"
   ]
  },
  {
   "cell_type": "markdown",
   "metadata": {},
   "source": [
    "## 3.1 Data Centering"
   ]
  },
  {
   "cell_type": "code",
   "execution_count": 55,
   "metadata": {},
   "outputs": [],
   "source": [
    "\"\"\" \n",
    "Zentrierung Datenpunkte für Datenanalyse \n",
    "Dies ist die Zentrierung des Avatars am Kopf, indem dieser zum Punkt (0,0,0) gebracht wird. \n",
    "Alle anderen Keypoints werden entsprechend diesen X, Y und Z Werten verschoben. \n",
    "\n",
    "Die Zentrierung wird anstelle des von Nils erstellten Ansatzes verwendet, \n",
    "damit die Daten für die Datenanalyse im späteren Schritt verwendet werden können.\n",
    "\n",
    "\"\"\"\n",
    "x_cols = []\n",
    "y_cols = []\n",
    "z_cols = []\n",
    "for i in range(33):\n",
    "    x_cols.append(f'x_{i}')\n",
    "    y_cols.append(f'y_{i}')\n",
    "    z_cols.append(f'z_{i}')\n"
   ]
  },
  {
   "cell_type": "code",
   "execution_count": 56,
   "metadata": {},
   "outputs": [
    {
     "data": {
      "text/plain": [
       "602"
      ]
     },
     "execution_count": 56,
     "metadata": {},
     "output_type": "execute_result"
    }
   ],
   "source": [
    "videos_raw = list(data.groupby(data.path))\n",
    "len(videos_raw)"
   ]
  },
  {
   "cell_type": "code",
   "execution_count": null,
   "metadata": {},
   "outputs": [],
   "source": [
    "def center_keypoints(uncentered_videos):\n",
    "\n",
    "    centred_df = pd.DataFrame()\n",
    "    for path, video in uncentered_videos:\n",
    "        keypoints = video[x_cols + y_cols + z_cols]\n",
    "\n",
    "        # Step 2: get the head position and use it as cetner of mass\n",
    "        center_of_mass = keypoints[['x_0', 'y_0', 'z_0']].iloc[0].values\n",
    "        #print(center_of_mass)\n",
    "\n",
    "        # Step 3: Translate keypoints\n",
    "        tmp = pd.DataFrame()\n",
    "        tmp[x_cols] = keypoints[x_cols] - center_of_mass[0]\n",
    "        tmp[y_cols] = keypoints[y_cols] - center_of_mass[1]\n",
    "        tmp[z_cols] = keypoints[z_cols] - center_of_mass[2]\n",
    "        tmp.insert(0, 'path', path)\n",
    "        tmp.insert(0, 'frame', video['frame'])\n",
    "        tmp.insert(0, 'compensation', video['compensation'])\n",
    "  \n",
    "        centred_df = pd.concat([centred_df, tmp], axis=0, ignore_index=True)\n",
    "\n",
    "    return centred_df\n",
    "df_centred = center_keypoints(videos_raw)"
   ]
  },
  {
   "cell_type": "code",
   "execution_count": 58,
   "metadata": {},
   "outputs": [
    {
     "data": {
      "text/html": [
       "<div>\n",
       "<style scoped>\n",
       "    .dataframe tbody tr th:only-of-type {\n",
       "        vertical-align: middle;\n",
       "    }\n",
       "\n",
       "    .dataframe tbody tr th {\n",
       "        vertical-align: top;\n",
       "    }\n",
       "\n",
       "    .dataframe thead th {\n",
       "        text-align: right;\n",
       "    }\n",
       "</style>\n",
       "<table border=\"1\" class=\"dataframe\">\n",
       "  <thead>\n",
       "    <tr style=\"text-align: right;\">\n",
       "      <th></th>\n",
       "      <th>compensation</th>\n",
       "      <th>frame</th>\n",
       "      <th>path</th>\n",
       "      <th>x_0</th>\n",
       "      <th>x_1</th>\n",
       "      <th>x_2</th>\n",
       "      <th>x_3</th>\n",
       "      <th>x_4</th>\n",
       "      <th>x_5</th>\n",
       "      <th>x_6</th>\n",
       "      <th>...</th>\n",
       "      <th>z_23</th>\n",
       "      <th>z_24</th>\n",
       "      <th>z_25</th>\n",
       "      <th>z_26</th>\n",
       "      <th>z_27</th>\n",
       "      <th>z_28</th>\n",
       "      <th>z_29</th>\n",
       "      <th>z_30</th>\n",
       "      <th>z_31</th>\n",
       "      <th>z_32</th>\n",
       "    </tr>\n",
       "  </thead>\n",
       "  <tbody>\n",
       "    <tr>\n",
       "      <th>0</th>\n",
       "      <td>1</td>\n",
       "      <td>1</td>\n",
       "      <td>/Users/salomekoller/Library/CloudStorage/OneDr...</td>\n",
       "      <td>0.0000</td>\n",
       "      <td>-1001.265</td>\n",
       "      <td>-1001.265</td>\n",
       "      <td>-1001.265</td>\n",
       "      <td>-1001.265</td>\n",
       "      <td>-1001.265</td>\n",
       "      <td>-1001.265</td>\n",
       "      <td>...</td>\n",
       "      <td>7.371407</td>\n",
       "      <td>7.371387</td>\n",
       "      <td>9.394707</td>\n",
       "      <td>9.399187</td>\n",
       "      <td>-6.115406</td>\n",
       "      <td>-6.115967</td>\n",
       "      <td>-5.740273</td>\n",
       "      <td>-5.740273</td>\n",
       "      <td>47.437397</td>\n",
       "      <td>47.436827</td>\n",
       "    </tr>\n",
       "    <tr>\n",
       "      <th>1</th>\n",
       "      <td>1</td>\n",
       "      <td>2</td>\n",
       "      <td>/Users/salomekoller/Library/CloudStorage/OneDr...</td>\n",
       "      <td>-3.3216</td>\n",
       "      <td>-1001.265</td>\n",
       "      <td>-1001.265</td>\n",
       "      <td>-1001.265</td>\n",
       "      <td>-1001.265</td>\n",
       "      <td>-1001.265</td>\n",
       "      <td>-1001.265</td>\n",
       "      <td>...</td>\n",
       "      <td>-2.696713</td>\n",
       "      <td>-3.498616</td>\n",
       "      <td>-29.445363</td>\n",
       "      <td>-13.956810</td>\n",
       "      <td>-63.243623</td>\n",
       "      <td>-64.332943</td>\n",
       "      <td>-5.740273</td>\n",
       "      <td>-5.740273</td>\n",
       "      <td>-14.759285</td>\n",
       "      <td>-16.102833</td>\n",
       "    </tr>\n",
       "    <tr>\n",
       "      <th>2</th>\n",
       "      <td>1</td>\n",
       "      <td>3</td>\n",
       "      <td>/Users/salomekoller/Library/CloudStorage/OneDr...</td>\n",
       "      <td>1.6550</td>\n",
       "      <td>-1001.265</td>\n",
       "      <td>-1001.265</td>\n",
       "      <td>-1001.265</td>\n",
       "      <td>-1001.265</td>\n",
       "      <td>-1001.265</td>\n",
       "      <td>-1001.265</td>\n",
       "      <td>...</td>\n",
       "      <td>-8.997166</td>\n",
       "      <td>-10.653107</td>\n",
       "      <td>-45.717673</td>\n",
       "      <td>-27.773403</td>\n",
       "      <td>-97.982793</td>\n",
       "      <td>-99.005583</td>\n",
       "      <td>-5.740273</td>\n",
       "      <td>-5.740273</td>\n",
       "      <td>-52.912333</td>\n",
       "      <td>-53.810943</td>\n",
       "    </tr>\n",
       "    <tr>\n",
       "      <th>3</th>\n",
       "      <td>1</td>\n",
       "      <td>4</td>\n",
       "      <td>/Users/salomekoller/Library/CloudStorage/OneDr...</td>\n",
       "      <td>3.9860</td>\n",
       "      <td>-1001.265</td>\n",
       "      <td>-1001.265</td>\n",
       "      <td>-1001.265</td>\n",
       "      <td>-1001.265</td>\n",
       "      <td>-1001.265</td>\n",
       "      <td>-1001.265</td>\n",
       "      <td>...</td>\n",
       "      <td>-10.049377</td>\n",
       "      <td>-11.663836</td>\n",
       "      <td>-44.307243</td>\n",
       "      <td>-28.706163</td>\n",
       "      <td>-97.977963</td>\n",
       "      <td>-98.740323</td>\n",
       "      <td>-5.740273</td>\n",
       "      <td>-5.740273</td>\n",
       "      <td>-52.726213</td>\n",
       "      <td>-53.393883</td>\n",
       "    </tr>\n",
       "    <tr>\n",
       "      <th>4</th>\n",
       "      <td>1</td>\n",
       "      <td>5</td>\n",
       "      <td>/Users/salomekoller/Library/CloudStorage/OneDr...</td>\n",
       "      <td>5.4320</td>\n",
       "      <td>-1001.265</td>\n",
       "      <td>-1001.265</td>\n",
       "      <td>-1001.265</td>\n",
       "      <td>-1001.265</td>\n",
       "      <td>-1001.265</td>\n",
       "      <td>-1001.265</td>\n",
       "      <td>...</td>\n",
       "      <td>-10.798463</td>\n",
       "      <td>-12.359276</td>\n",
       "      <td>-44.008033</td>\n",
       "      <td>-29.568633</td>\n",
       "      <td>-98.200573</td>\n",
       "      <td>-98.692723</td>\n",
       "      <td>-5.740273</td>\n",
       "      <td>-5.740273</td>\n",
       "      <td>-52.941793</td>\n",
       "      <td>-53.249863</td>\n",
       "    </tr>\n",
       "  </tbody>\n",
       "</table>\n",
       "<p>5 rows × 102 columns</p>\n",
       "</div>"
      ],
      "text/plain": [
       "   compensation  frame                                               path   \n",
       "0             1      1  /Users/salomekoller/Library/CloudStorage/OneDr...  \\\n",
       "1             1      2  /Users/salomekoller/Library/CloudStorage/OneDr...   \n",
       "2             1      3  /Users/salomekoller/Library/CloudStorage/OneDr...   \n",
       "3             1      4  /Users/salomekoller/Library/CloudStorage/OneDr...   \n",
       "4             1      5  /Users/salomekoller/Library/CloudStorage/OneDr...   \n",
       "\n",
       "      x_0       x_1       x_2       x_3       x_4       x_5       x_6  ...   \n",
       "0  0.0000 -1001.265 -1001.265 -1001.265 -1001.265 -1001.265 -1001.265  ...  \\\n",
       "1 -3.3216 -1001.265 -1001.265 -1001.265 -1001.265 -1001.265 -1001.265  ...   \n",
       "2  1.6550 -1001.265 -1001.265 -1001.265 -1001.265 -1001.265 -1001.265  ...   \n",
       "3  3.9860 -1001.265 -1001.265 -1001.265 -1001.265 -1001.265 -1001.265  ...   \n",
       "4  5.4320 -1001.265 -1001.265 -1001.265 -1001.265 -1001.265 -1001.265  ...   \n",
       "\n",
       "        z_23       z_24       z_25       z_26       z_27       z_28      z_29   \n",
       "0   7.371407   7.371387   9.394707   9.399187  -6.115406  -6.115967 -5.740273  \\\n",
       "1  -2.696713  -3.498616 -29.445363 -13.956810 -63.243623 -64.332943 -5.740273   \n",
       "2  -8.997166 -10.653107 -45.717673 -27.773403 -97.982793 -99.005583 -5.740273   \n",
       "3 -10.049377 -11.663836 -44.307243 -28.706163 -97.977963 -98.740323 -5.740273   \n",
       "4 -10.798463 -12.359276 -44.008033 -29.568633 -98.200573 -98.692723 -5.740273   \n",
       "\n",
       "       z_30       z_31       z_32  \n",
       "0 -5.740273  47.437397  47.436827  \n",
       "1 -5.740273 -14.759285 -16.102833  \n",
       "2 -5.740273 -52.912333 -53.810943  \n",
       "3 -5.740273 -52.726213 -53.393883  \n",
       "4 -5.740273 -52.941793 -53.249863  \n",
       "\n",
       "[5 rows x 102 columns]"
      ]
     },
     "execution_count": 58,
     "metadata": {},
     "output_type": "execute_result"
    }
   ],
   "source": [
    "df_centred.head(5)"
   ]
  },
  {
   "cell_type": "markdown",
   "metadata": {},
   "source": [
    "## 3.2 Export centered Data for Data Analysis"
   ]
  },
  {
   "cell_type": "markdown",
   "metadata": {},
   "source": [
    "### 3.2.1 Export Datenset \"Kompensiert\""
   ]
  },
  {
   "cell_type": "code",
   "execution_count": 59,
   "metadata": {},
   "outputs": [
    {
     "data": {
      "text/html": [
       "<div>\n",
       "<style scoped>\n",
       "    .dataframe tbody tr th:only-of-type {\n",
       "        vertical-align: middle;\n",
       "    }\n",
       "\n",
       "    .dataframe tbody tr th {\n",
       "        vertical-align: top;\n",
       "    }\n",
       "\n",
       "    .dataframe thead th {\n",
       "        text-align: right;\n",
       "    }\n",
       "</style>\n",
       "<table border=\"1\" class=\"dataframe\">\n",
       "  <thead>\n",
       "    <tr style=\"text-align: right;\">\n",
       "      <th></th>\n",
       "      <th>compensation</th>\n",
       "      <th>frame</th>\n",
       "      <th>path</th>\n",
       "      <th>x_0</th>\n",
       "      <th>x_1</th>\n",
       "      <th>x_2</th>\n",
       "      <th>x_3</th>\n",
       "      <th>x_4</th>\n",
       "      <th>x_5</th>\n",
       "      <th>x_6</th>\n",
       "      <th>...</th>\n",
       "      <th>z_23</th>\n",
       "      <th>z_24</th>\n",
       "      <th>z_25</th>\n",
       "      <th>z_26</th>\n",
       "      <th>z_27</th>\n",
       "      <th>z_28</th>\n",
       "      <th>z_29</th>\n",
       "      <th>z_30</th>\n",
       "      <th>z_31</th>\n",
       "      <th>z_32</th>\n",
       "    </tr>\n",
       "  </thead>\n",
       "  <tbody>\n",
       "    <tr>\n",
       "      <th>0</th>\n",
       "      <td>1</td>\n",
       "      <td>1</td>\n",
       "      <td>/Users/salomekoller/Library/CloudStorage/OneDr...</td>\n",
       "      <td>0.0000</td>\n",
       "      <td>-1001.265</td>\n",
       "      <td>-1001.265</td>\n",
       "      <td>-1001.265</td>\n",
       "      <td>-1001.265</td>\n",
       "      <td>-1001.265</td>\n",
       "      <td>-1001.265</td>\n",
       "      <td>...</td>\n",
       "      <td>7.371407</td>\n",
       "      <td>7.371387</td>\n",
       "      <td>9.394707</td>\n",
       "      <td>9.399187</td>\n",
       "      <td>-6.115406</td>\n",
       "      <td>-6.115967</td>\n",
       "      <td>-5.740273</td>\n",
       "      <td>-5.740273</td>\n",
       "      <td>47.437397</td>\n",
       "      <td>47.436827</td>\n",
       "    </tr>\n",
       "    <tr>\n",
       "      <th>1</th>\n",
       "      <td>1</td>\n",
       "      <td>2</td>\n",
       "      <td>/Users/salomekoller/Library/CloudStorage/OneDr...</td>\n",
       "      <td>-3.3216</td>\n",
       "      <td>-1001.265</td>\n",
       "      <td>-1001.265</td>\n",
       "      <td>-1001.265</td>\n",
       "      <td>-1001.265</td>\n",
       "      <td>-1001.265</td>\n",
       "      <td>-1001.265</td>\n",
       "      <td>...</td>\n",
       "      <td>-2.696713</td>\n",
       "      <td>-3.498616</td>\n",
       "      <td>-29.445363</td>\n",
       "      <td>-13.956810</td>\n",
       "      <td>-63.243623</td>\n",
       "      <td>-64.332943</td>\n",
       "      <td>-5.740273</td>\n",
       "      <td>-5.740273</td>\n",
       "      <td>-14.759285</td>\n",
       "      <td>-16.102833</td>\n",
       "    </tr>\n",
       "    <tr>\n",
       "      <th>2</th>\n",
       "      <td>1</td>\n",
       "      <td>3</td>\n",
       "      <td>/Users/salomekoller/Library/CloudStorage/OneDr...</td>\n",
       "      <td>1.6550</td>\n",
       "      <td>-1001.265</td>\n",
       "      <td>-1001.265</td>\n",
       "      <td>-1001.265</td>\n",
       "      <td>-1001.265</td>\n",
       "      <td>-1001.265</td>\n",
       "      <td>-1001.265</td>\n",
       "      <td>...</td>\n",
       "      <td>-8.997166</td>\n",
       "      <td>-10.653107</td>\n",
       "      <td>-45.717673</td>\n",
       "      <td>-27.773403</td>\n",
       "      <td>-97.982793</td>\n",
       "      <td>-99.005583</td>\n",
       "      <td>-5.740273</td>\n",
       "      <td>-5.740273</td>\n",
       "      <td>-52.912333</td>\n",
       "      <td>-53.810943</td>\n",
       "    </tr>\n",
       "    <tr>\n",
       "      <th>3</th>\n",
       "      <td>1</td>\n",
       "      <td>4</td>\n",
       "      <td>/Users/salomekoller/Library/CloudStorage/OneDr...</td>\n",
       "      <td>3.9860</td>\n",
       "      <td>-1001.265</td>\n",
       "      <td>-1001.265</td>\n",
       "      <td>-1001.265</td>\n",
       "      <td>-1001.265</td>\n",
       "      <td>-1001.265</td>\n",
       "      <td>-1001.265</td>\n",
       "      <td>...</td>\n",
       "      <td>-10.049377</td>\n",
       "      <td>-11.663836</td>\n",
       "      <td>-44.307243</td>\n",
       "      <td>-28.706163</td>\n",
       "      <td>-97.977963</td>\n",
       "      <td>-98.740323</td>\n",
       "      <td>-5.740273</td>\n",
       "      <td>-5.740273</td>\n",
       "      <td>-52.726213</td>\n",
       "      <td>-53.393883</td>\n",
       "    </tr>\n",
       "    <tr>\n",
       "      <th>4</th>\n",
       "      <td>1</td>\n",
       "      <td>5</td>\n",
       "      <td>/Users/salomekoller/Library/CloudStorage/OneDr...</td>\n",
       "      <td>5.4320</td>\n",
       "      <td>-1001.265</td>\n",
       "      <td>-1001.265</td>\n",
       "      <td>-1001.265</td>\n",
       "      <td>-1001.265</td>\n",
       "      <td>-1001.265</td>\n",
       "      <td>-1001.265</td>\n",
       "      <td>...</td>\n",
       "      <td>-10.798463</td>\n",
       "      <td>-12.359276</td>\n",
       "      <td>-44.008033</td>\n",
       "      <td>-29.568633</td>\n",
       "      <td>-98.200573</td>\n",
       "      <td>-98.692723</td>\n",
       "      <td>-5.740273</td>\n",
       "      <td>-5.740273</td>\n",
       "      <td>-52.941793</td>\n",
       "      <td>-53.249863</td>\n",
       "    </tr>\n",
       "  </tbody>\n",
       "</table>\n",
       "<p>5 rows × 102 columns</p>\n",
       "</div>"
      ],
      "text/plain": [
       "   compensation  frame                                               path   \n",
       "0             1      1  /Users/salomekoller/Library/CloudStorage/OneDr...  \\\n",
       "1             1      2  /Users/salomekoller/Library/CloudStorage/OneDr...   \n",
       "2             1      3  /Users/salomekoller/Library/CloudStorage/OneDr...   \n",
       "3             1      4  /Users/salomekoller/Library/CloudStorage/OneDr...   \n",
       "4             1      5  /Users/salomekoller/Library/CloudStorage/OneDr...   \n",
       "\n",
       "      x_0       x_1       x_2       x_3       x_4       x_5       x_6  ...   \n",
       "0  0.0000 -1001.265 -1001.265 -1001.265 -1001.265 -1001.265 -1001.265  ...  \\\n",
       "1 -3.3216 -1001.265 -1001.265 -1001.265 -1001.265 -1001.265 -1001.265  ...   \n",
       "2  1.6550 -1001.265 -1001.265 -1001.265 -1001.265 -1001.265 -1001.265  ...   \n",
       "3  3.9860 -1001.265 -1001.265 -1001.265 -1001.265 -1001.265 -1001.265  ...   \n",
       "4  5.4320 -1001.265 -1001.265 -1001.265 -1001.265 -1001.265 -1001.265  ...   \n",
       "\n",
       "        z_23       z_24       z_25       z_26       z_27       z_28      z_29   \n",
       "0   7.371407   7.371387   9.394707   9.399187  -6.115406  -6.115967 -5.740273  \\\n",
       "1  -2.696713  -3.498616 -29.445363 -13.956810 -63.243623 -64.332943 -5.740273   \n",
       "2  -8.997166 -10.653107 -45.717673 -27.773403 -97.982793 -99.005583 -5.740273   \n",
       "3 -10.049377 -11.663836 -44.307243 -28.706163 -97.977963 -98.740323 -5.740273   \n",
       "4 -10.798463 -12.359276 -44.008033 -29.568633 -98.200573 -98.692723 -5.740273   \n",
       "\n",
       "       z_30       z_31       z_32  \n",
       "0 -5.740273  47.437397  47.436827  \n",
       "1 -5.740273 -14.759285 -16.102833  \n",
       "2 -5.740273 -52.912333 -53.810943  \n",
       "3 -5.740273 -52.726213 -53.393883  \n",
       "4 -5.740273 -52.941793 -53.249863  \n",
       "\n",
       "[5 rows x 102 columns]"
      ]
     },
     "execution_count": 59,
     "metadata": {},
     "output_type": "execute_result"
    }
   ],
   "source": [
    "df_centred_augmented = df_centred[df_centred.path.str.startswith('/Users/')]\n",
    "df_centred_original = df_centred[df_centred.path.str.startswith('data/')]\n",
    "\n",
    "df_centred_augmented_compensated = df_centred_augmented[df_centred_augmented['compensation'] == 1]\n",
    "df_centred_augmented_compensated.head(5)"
   ]
  },
  {
   "cell_type": "code",
   "execution_count": 60,
   "metadata": {},
   "outputs": [],
   "source": [
    "df_centred_augmented_compensated.to_csv('../Data/KeypointsBereinigtKompensiert.csv',\n",
    "                           sep=\",\",\n",
    "                           encoding='utf-8',\n",
    "                           index=False) "
   ]
  },
  {
   "cell_type": "markdown",
   "metadata": {},
   "source": [
    "### 3.2.2 Export Datenset \"Nicht Kompensiert\""
   ]
  },
  {
   "cell_type": "code",
   "execution_count": 61,
   "metadata": {},
   "outputs": [
    {
     "data": {
      "text/html": [
       "<div>\n",
       "<style scoped>\n",
       "    .dataframe tbody tr th:only-of-type {\n",
       "        vertical-align: middle;\n",
       "    }\n",
       "\n",
       "    .dataframe tbody tr th {\n",
       "        vertical-align: top;\n",
       "    }\n",
       "\n",
       "    .dataframe thead th {\n",
       "        text-align: right;\n",
       "    }\n",
       "</style>\n",
       "<table border=\"1\" class=\"dataframe\">\n",
       "  <thead>\n",
       "    <tr style=\"text-align: right;\">\n",
       "      <th></th>\n",
       "      <th>compensation</th>\n",
       "      <th>frame</th>\n",
       "      <th>path</th>\n",
       "      <th>x_0</th>\n",
       "      <th>x_1</th>\n",
       "      <th>x_2</th>\n",
       "      <th>x_3</th>\n",
       "      <th>x_4</th>\n",
       "      <th>x_5</th>\n",
       "      <th>x_6</th>\n",
       "      <th>...</th>\n",
       "      <th>z_23</th>\n",
       "      <th>z_24</th>\n",
       "      <th>z_25</th>\n",
       "      <th>z_26</th>\n",
       "      <th>z_27</th>\n",
       "      <th>z_28</th>\n",
       "      <th>z_29</th>\n",
       "      <th>z_30</th>\n",
       "      <th>z_31</th>\n",
       "      <th>z_32</th>\n",
       "    </tr>\n",
       "  </thead>\n",
       "  <tbody>\n",
       "    <tr>\n",
       "      <th>1558</th>\n",
       "      <td>0</td>\n",
       "      <td>1</td>\n",
       "      <td>/Users/salomekoller/Library/CloudStorage/OneDr...</td>\n",
       "      <td>0.0000</td>\n",
       "      <td>-1001.265</td>\n",
       "      <td>-1001.265</td>\n",
       "      <td>-1001.265</td>\n",
       "      <td>-1001.265</td>\n",
       "      <td>-1001.265</td>\n",
       "      <td>-1001.265</td>\n",
       "      <td>...</td>\n",
       "      <td>7.371407</td>\n",
       "      <td>7.371387</td>\n",
       "      <td>9.394707</td>\n",
       "      <td>9.399187</td>\n",
       "      <td>-6.115406</td>\n",
       "      <td>-6.115967</td>\n",
       "      <td>-5.740273</td>\n",
       "      <td>-5.740273</td>\n",
       "      <td>47.437397</td>\n",
       "      <td>47.436827</td>\n",
       "    </tr>\n",
       "    <tr>\n",
       "      <th>1559</th>\n",
       "      <td>0</td>\n",
       "      <td>2</td>\n",
       "      <td>/Users/salomekoller/Library/CloudStorage/OneDr...</td>\n",
       "      <td>-3.3216</td>\n",
       "      <td>-1001.265</td>\n",
       "      <td>-1001.265</td>\n",
       "      <td>-1001.265</td>\n",
       "      <td>-1001.265</td>\n",
       "      <td>-1001.265</td>\n",
       "      <td>-1001.265</td>\n",
       "      <td>...</td>\n",
       "      <td>-2.696713</td>\n",
       "      <td>-3.498616</td>\n",
       "      <td>-29.445363</td>\n",
       "      <td>-13.956810</td>\n",
       "      <td>-63.243623</td>\n",
       "      <td>-64.332943</td>\n",
       "      <td>-5.740273</td>\n",
       "      <td>-5.740273</td>\n",
       "      <td>-14.759285</td>\n",
       "      <td>-16.102833</td>\n",
       "    </tr>\n",
       "    <tr>\n",
       "      <th>1560</th>\n",
       "      <td>0</td>\n",
       "      <td>3</td>\n",
       "      <td>/Users/salomekoller/Library/CloudStorage/OneDr...</td>\n",
       "      <td>1.6550</td>\n",
       "      <td>-1001.265</td>\n",
       "      <td>-1001.265</td>\n",
       "      <td>-1001.265</td>\n",
       "      <td>-1001.265</td>\n",
       "      <td>-1001.265</td>\n",
       "      <td>-1001.265</td>\n",
       "      <td>...</td>\n",
       "      <td>-8.997166</td>\n",
       "      <td>-10.653107</td>\n",
       "      <td>-45.717673</td>\n",
       "      <td>-27.773403</td>\n",
       "      <td>-97.982793</td>\n",
       "      <td>-99.005583</td>\n",
       "      <td>-5.740273</td>\n",
       "      <td>-5.740273</td>\n",
       "      <td>-52.912333</td>\n",
       "      <td>-53.810943</td>\n",
       "    </tr>\n",
       "    <tr>\n",
       "      <th>1561</th>\n",
       "      <td>0</td>\n",
       "      <td>4</td>\n",
       "      <td>/Users/salomekoller/Library/CloudStorage/OneDr...</td>\n",
       "      <td>3.9860</td>\n",
       "      <td>-1001.265</td>\n",
       "      <td>-1001.265</td>\n",
       "      <td>-1001.265</td>\n",
       "      <td>-1001.265</td>\n",
       "      <td>-1001.265</td>\n",
       "      <td>-1001.265</td>\n",
       "      <td>...</td>\n",
       "      <td>-10.049377</td>\n",
       "      <td>-11.663836</td>\n",
       "      <td>-44.307243</td>\n",
       "      <td>-28.706163</td>\n",
       "      <td>-97.977963</td>\n",
       "      <td>-98.740323</td>\n",
       "      <td>-5.740273</td>\n",
       "      <td>-5.740273</td>\n",
       "      <td>-52.726213</td>\n",
       "      <td>-53.393883</td>\n",
       "    </tr>\n",
       "    <tr>\n",
       "      <th>1562</th>\n",
       "      <td>0</td>\n",
       "      <td>5</td>\n",
       "      <td>/Users/salomekoller/Library/CloudStorage/OneDr...</td>\n",
       "      <td>5.4320</td>\n",
       "      <td>-1001.265</td>\n",
       "      <td>-1001.265</td>\n",
       "      <td>-1001.265</td>\n",
       "      <td>-1001.265</td>\n",
       "      <td>-1001.265</td>\n",
       "      <td>-1001.265</td>\n",
       "      <td>...</td>\n",
       "      <td>-10.798463</td>\n",
       "      <td>-12.359276</td>\n",
       "      <td>-44.008033</td>\n",
       "      <td>-29.568633</td>\n",
       "      <td>-98.200573</td>\n",
       "      <td>-98.692723</td>\n",
       "      <td>-5.740273</td>\n",
       "      <td>-5.740273</td>\n",
       "      <td>-52.941793</td>\n",
       "      <td>-53.249863</td>\n",
       "    </tr>\n",
       "  </tbody>\n",
       "</table>\n",
       "<p>5 rows × 102 columns</p>\n",
       "</div>"
      ],
      "text/plain": [
       "      compensation  frame                                               path   \n",
       "1558             0      1  /Users/salomekoller/Library/CloudStorage/OneDr...  \\\n",
       "1559             0      2  /Users/salomekoller/Library/CloudStorage/OneDr...   \n",
       "1560             0      3  /Users/salomekoller/Library/CloudStorage/OneDr...   \n",
       "1561             0      4  /Users/salomekoller/Library/CloudStorage/OneDr...   \n",
       "1562             0      5  /Users/salomekoller/Library/CloudStorage/OneDr...   \n",
       "\n",
       "         x_0       x_1       x_2       x_3       x_4       x_5       x_6  ...   \n",
       "1558  0.0000 -1001.265 -1001.265 -1001.265 -1001.265 -1001.265 -1001.265  ...  \\\n",
       "1559 -3.3216 -1001.265 -1001.265 -1001.265 -1001.265 -1001.265 -1001.265  ...   \n",
       "1560  1.6550 -1001.265 -1001.265 -1001.265 -1001.265 -1001.265 -1001.265  ...   \n",
       "1561  3.9860 -1001.265 -1001.265 -1001.265 -1001.265 -1001.265 -1001.265  ...   \n",
       "1562  5.4320 -1001.265 -1001.265 -1001.265 -1001.265 -1001.265 -1001.265  ...   \n",
       "\n",
       "           z_23       z_24       z_25       z_26       z_27       z_28   \n",
       "1558   7.371407   7.371387   9.394707   9.399187  -6.115406  -6.115967  \\\n",
       "1559  -2.696713  -3.498616 -29.445363 -13.956810 -63.243623 -64.332943   \n",
       "1560  -8.997166 -10.653107 -45.717673 -27.773403 -97.982793 -99.005583   \n",
       "1561 -10.049377 -11.663836 -44.307243 -28.706163 -97.977963 -98.740323   \n",
       "1562 -10.798463 -12.359276 -44.008033 -29.568633 -98.200573 -98.692723   \n",
       "\n",
       "          z_29      z_30       z_31       z_32  \n",
       "1558 -5.740273 -5.740273  47.437397  47.436827  \n",
       "1559 -5.740273 -5.740273 -14.759285 -16.102833  \n",
       "1560 -5.740273 -5.740273 -52.912333 -53.810943  \n",
       "1561 -5.740273 -5.740273 -52.726213 -53.393883  \n",
       "1562 -5.740273 -5.740273 -52.941793 -53.249863  \n",
       "\n",
       "[5 rows x 102 columns]"
      ]
     },
     "execution_count": 61,
     "metadata": {},
     "output_type": "execute_result"
    }
   ],
   "source": [
    "df_centred_augmented_notCompensated = df_centred_augmented[df_centred_augmented['compensation'] == 0]\n",
    "df_centred_augmented_notCompensated.head(5)"
   ]
  },
  {
   "cell_type": "code",
   "execution_count": 62,
   "metadata": {},
   "outputs": [],
   "source": [
    "df_centred_augmented_notCompensated.to_csv('../Data/KeypointsBereinigtNichtKompensiert.csv',\n",
    "                           sep=\",\",\n",
    "                           encoding='utf-8',\n",
    "                           index=False) "
   ]
  },
  {
   "cell_type": "code",
   "execution_count": 63,
   "metadata": {},
   "outputs": [],
   "source": [
    "df_centred_augmented = df_centred_augmented[['path', 'frame' ,'compensation', 'x_0', 'y_0', 'z_0', 'x_11', 'y_11', 'z_11',\n",
    "           'x_12', 'y_12', 'z_12', 'x_13', 'y_13', 'z_13', 'x_14', 'y_14', 'z_14', 'x_15', 'y_15', 'z_15',\n",
    "           'x_16', 'y_16', 'z_16', 'x_17', 'y_17', 'z_17', 'x_18', 'y_18', 'z_18', 'x_19', 'y_19', 'z_19',\n",
    "           'x_20', 'y_20', 'z_20', 'x_21', 'y_21', 'z_21', 'x_22', 'y_22', 'z_22', 'x_23', 'y_23', 'z_23',\n",
    "           'x_24', 'y_24', 'z_24', 'x_25', 'y_25', 'z_25', 'x_26', 'y_26', 'z_26', 'x_27', 'y_27', 'z_27',\n",
    "           'x_28', 'y_28', 'z_28', 'x_31', 'y_31', 'z_31', 'x_32', 'y_32', 'z_32']] \n",
    "\n",
    "df_centred_original = df_centred_original[['path', 'frame' ,'compensation', 'x_0', 'y_0', 'z_0', 'x_11', 'y_11', 'z_11',\n",
    "           'x_12', 'y_12', 'z_12', 'x_13', 'y_13', 'z_13', 'x_14', 'y_14', 'z_14', 'x_15', 'y_15', 'z_15',\n",
    "           'x_16', 'y_16', 'z_16', 'x_17', 'y_17', 'z_17', 'x_18', 'y_18', 'z_18', 'x_19', 'y_19', 'z_19',\n",
    "           'x_20', 'y_20', 'z_20', 'x_21', 'y_21', 'z_21', 'x_22', 'y_22', 'z_22', 'x_23', 'y_23', 'z_23',\n",
    "           'x_24', 'y_24', 'z_24', 'x_25', 'y_25', 'z_25', 'x_26', 'y_26', 'z_26', 'x_27', 'y_27', 'z_27',\n",
    "           'x_28', 'y_28', 'z_28', 'x_31', 'y_31', 'z_31', 'x_32', 'y_32', 'z_32']]"
   ]
  },
  {
   "cell_type": "code",
   "execution_count": 64,
   "metadata": {},
   "outputs": [
    {
     "data": {
      "text/plain": [
       "599"
      ]
     },
     "execution_count": 64,
     "metadata": {},
     "output_type": "execute_result"
    }
   ],
   "source": [
    "# Videos Original gruppieren und in Liste schreiben\n",
    "videos_raw_augmented = list(df_centred_augmented.groupby(df_centred_augmented.path))\n",
    "len(videos_raw_augmented)\n",
    "\n",
    "# Videos Augmentiert gruppieren und in Liste schreiben\n",
    "videos_raw_original = list(df_centred_original.groupby(df_centred_original.path))\n",
    "len(videos_raw_original)"
   ]
  },
  {
   "cell_type": "markdown",
   "metadata": {},
   "source": [
    "## 3.3 Pre-Processing-Funktionen"
   ]
  },
  {
   "cell_type": "code",
   "execution_count": 65,
   "metadata": {
    "metadata": {}
   },
   "outputs": [],
   "source": [
    "'''\n",
    "Diese Funktion bringt die rohen Videos in eine neue Form, ohne die Videos zu schneiden.\n",
    "Sie wird für den Sliding Window Ansatz benötigt.\n",
    "Aus den rohen Videos werden nur noch die exrahierten Datenpunkte als Liste zurückgegeben.\n",
    "'''\n",
    "def remap_raw_videos(unmapped_videos):\n",
    "    remapped_videos = []\n",
    "    for video in unmapped_videos:\n",
    "        v = video[1].reset_index()\n",
    "        mapped_vid = v.loc[:, 'x_0':]\n",
    "        remapped_videos.append(mapped_vid)\n",
    "    return remapped_videos"
   ]
  },
  {
   "cell_type": "code",
   "execution_count": 66,
   "metadata": {
    "metadata": {}
   },
   "outputs": [],
   "source": [
    "'''\n",
    "Schneiden der Videos\n",
    "\n",
    "Diese Funktion bringt die rohen Videos in eine neue Form und schneidet sie eine bestimmte Anzahl Frames\n",
    "vor und hinter dem vertikalen Höhepunkt der trinkenden Hand ab.\n",
    "\n",
    "Aus den rohen Videos werden nur noch die exrahierten Datenpunkte als Liste zurückgegeben.\n",
    "\n",
    "Inputs:\n",
    "uncutted_videos: Die ungeschnittenen rohen Videos\n",
    "n_frames: Die Anzahl der Frames, welche vor und nach dem Höchstpunkt der Hand (y_16) abgeschnitten werden sollen\n",
    "'''\n",
    "def cut_videos(uncutted_videos, n_frames=0):\n",
    "    cut_videos = []\n",
    "    for idx, video in enumerate(uncutted_videos):\n",
    "        v = video[1].reset_index()\n",
    "        # Position des höchsten Punktes (tiefster Wert, da tiefere Werte höhere vertikale Positionen aussagen)\n",
    "        minpos = np.argmin(v.y_16)\n",
    "        \n",
    "        # Falls der Höhepunkt der Hand zu nahe am Beginn / Ende des Videos ist, ist die Trinkbewegung vermutlich nicht korrekt.\n",
    "        # Das Video soll dann optimalerweise gelöscht werden.\n",
    "        if((minpos < 20) or (len(v) - minpos < 20)):\n",
    "            print('\\033[91m' + 'Video mit dem Namen\\n'\n",
    "                  + videos_raw[idx][0]\n",
    "                  + '\\nund Index\\n' + str(idx)\n",
    "                  + '\\nzeigt keine korrekte Trinkbewegung. Bitte entfernen.')\n",
    "            \n",
    "        cut_vid = v.loc[minpos-n_frames:minpos+n_frames, 'x_0':]   # Video x Frames vor und x Frames nach Höhepunkt der Hand (y_16) abschneiden\n",
    "        cut_videos.append(cut_vid)\n",
    "    return cut_videos"
   ]
  },
  {
   "cell_type": "code",
   "execution_count": 67,
   "metadata": {
    "metadata": {}
   },
   "outputs": [],
   "source": [
    "'''\n",
    "Videos zentrieren\n",
    "\n",
    "Diese Funktion zentriert alle Videos, in dem von allen Landmarks die Position des Kopfes im ersten Frame abgezogen wird.\n",
    "'''\n",
    "def center_data(uncentered_videos):\n",
    "    centered_videos = []\n",
    "    for video in uncentered_videos:\n",
    "        centered_video = []\n",
    "        # Position des Kopfes im ersten Frame des Videos bestimmen (x, y und z-Koordinate)\n",
    "        head_start = video.loc[:,'x_0':'z_0'].values[0]\n",
    "        for frame in np.array(video):\n",
    "            centered_frame = []\n",
    "            # Frame reshapen, sodass alle Landmarks als eine Liste zählen\n",
    "            landmarks = frame.reshape((21, 3))\n",
    "            for landmark in landmarks:\n",
    "                centered_frame.append(landmark - head_start)\n",
    "            centered_video.append(list(np.array(centered_frame).flatten()))\n",
    "        centered_videos.append(centered_video)\n",
    "    return centered_videos"
   ]
  },
  {
   "cell_type": "code",
   "execution_count": 68,
   "metadata": {
    "metadata": {}
   },
   "outputs": [],
   "source": [
    "'''\n",
    "Relative Abstände\n",
    "\n",
    "Diese Funktion berechnet den Abstand jedes Punktes des Skeletts zum Kopf und gibt diese anschliessend zurück.\n",
    "\n",
    "Shape der Rückgabe: [x Anzahl Videos, x Anzahl Frames, 33 Datenpunkte]\n",
    "'''\n",
    "def calc_distances(raw_videos):\n",
    "    # Abstand zu Kopf\n",
    "    distances = []\n",
    "\n",
    "    for video in raw_videos:\n",
    "        frame_distances = []\n",
    "        for frame in np.array(video):\n",
    "            points = frame.reshape((33, 3))\n",
    "            point_distances = []\n",
    "            for k in range(len(points)):\n",
    "                # Distanz einzeln von x-, y- und z-Koordinaten\n",
    "                distance = points[k]-points[0]\n",
    "                # Distanz mittels Formel berechnen\n",
    "                point_distances.append(math.sqrt(distance[0] ** 2 + distance[1] ** 2 + distance[2] ** 2))\n",
    "            frame_distances.append(point_distances)\n",
    "        distances.append(frame_distances)\n",
    "    return distances"
   ]
  },
  {
   "cell_type": "code",
   "execution_count": 69,
   "metadata": {
    "metadata": {}
   },
   "outputs": [],
   "source": [
    "'''\n",
    "Diese Funktion gibt die Labels der Videos zurück.\n",
    "1 = Compensation\n",
    "0 = Natural\n",
    "'''\n",
    "def define_labels():\n",
    "    labels = []\n",
    "\n",
    "    for i in range(len(videos_raw_original)):\n",
    "        labels.append(np.mean(videos_raw_original[i][1].compensation))\n",
    "        \n",
    "    for i in range(len(videos_raw_augmented)):\n",
    "        labels.append(np.mean(videos_raw_augmented[i][1].compensation))\n",
    "        \n",
    "    return labels\n",
    "labels = define_labels()"
   ]
  },
  {
   "cell_type": "code",
   "execution_count": 70,
   "metadata": {
    "metadata": {}
   },
   "outputs": [],
   "source": [
    "'''\n",
    "Sliding Windows\n",
    "\n",
    "Diese Funktion erstellt für alle Videos von unslided_videos Sliding Windows und gibt sie zurück.\n",
    "Ausserdem werden die Labels auf die Sliding Windows korrekt verteilt.\n",
    "\n",
    "Shape der Rückgabe: [x Anzahl Sliding Windows, {window_size} Anzahl Frames, 99 Datenpunkte]\n",
    "'''\n",
    "def create_sliding_windows(unslided_videos, window_size):\n",
    "    videos_slided = []\n",
    "    unslided_labels = define_labels()\n",
    "    slided_labels = []\n",
    "    for idx, unslided_video in enumerate(unslided_videos):\n",
    "        video_label = unslided_labels[idx]\n",
    "        for i in range(len(unslided_video) - window_size + 1):\n",
    "            videos_slided.append(unslided_video[i:i+window_size])\n",
    "            slided_labels.append(video_label)\n",
    "    return videos_slided, slided_labels"
   ]
  },
  {
   "cell_type": "code",
   "execution_count": 71,
   "metadata": {
    "metadata": {}
   },
   "outputs": [],
   "source": [
    "'''\n",
    "In dieser Funktion werden die Daten in eine geeignete Form gebracht.\n",
    "Es werden die Values der einzelnen Videos in eine Liste geschrieben und zurückgegeben.\n",
    "'''\n",
    "def reshape_videos(unshaped_videos):\n",
    "    reshaped_videos = []\n",
    "    labels = []\n",
    "    for video in unshaped_videos:\n",
    "        reshaped_videos.append(video.values)\n",
    "    return reshaped_videos"
   ]
  },
  {
   "cell_type": "markdown",
   "metadata": {},
   "source": [
    "## 3.4 Ansatz auswählen ✏️"
   ]
  },
  {
   "cell_type": "code",
   "execution_count": 72,
   "metadata": {},
   "outputs": [
    {
     "data": {
      "text/plain": [
       "(5741, 10, 63)"
      ]
     },
     "execution_count": 72,
     "metadata": {},
     "output_type": "execute_result"
    }
   ],
   "source": [
    "# Ansatz 1: Absolute Datenpunkte mit geschnittenen Videos\n",
    "# videos = reshape_videos(cut_videos(videos_raw, n_frames=38))\n",
    "\n",
    "# Ansatz 2: Zentrierte Datenpunkte mit geschnittenen Videos\n",
    "# videos = center_data(cut_videos(videos_raw, n_frames=10))\n",
    "\n",
    "# Ansatz 3: Relative Datenpunkte (Abstände zum Kopf) mit geschnittenen Videos\n",
    "# videos = calc_distances(cut_videos(videos_raw, n_frames=10))\n",
    "\n",
    "# Ansatz 4a: Sliding Windows mit absoluten Datenpunkten\n",
    "videos_original, labels_original = create_sliding_windows(center_data(remap_raw_videos(videos_raw_original)), 10)\n",
    "videos_augmented, labels_augmented = create_sliding_windows(center_data(remap_raw_videos(videos_raw_augmented)), 10)\n",
    "\n",
    "# Ansatz 4b: Sliding Windows mit zentrierten Datenpunkten\n",
    "# videos, labels = create_sliding_windows(center_data(remap_raw_videos(videos_raw)), 10)\n",
    "\n",
    "# Ansatz 4b: Sliding Windows mit relativen Datenpunkten\n",
    "# videos, labels = create_sliding_windows(calc_distances(remap_raw_videos(videos_raw)), 10)\n",
    "\n",
    "np.array(videos_original).shape\n",
    "np.array(videos_augmented).shape"
   ]
  },
  {
   "cell_type": "code",
   "execution_count": 73,
   "metadata": {},
   "outputs": [
    {
     "data": {
      "text/plain": [
       "'\\nFalls es zu einem Fehler kommt, kann folgende Zeile angepasst und auskommentiert werden, um ein falsches Video zu entfernen.\\nAlternativ kann das Video im Ordner gelöscht werden und die Datenpunkte neu extrahiert werden. ✏️\\n'"
      ]
     },
     "execution_count": 73,
     "metadata": {},
     "output_type": "execute_result"
    }
   ],
   "source": [
    "'''\n",
    "Falls es zu einem Fehler kommt, kann folgende Zeile angepasst und auskommentiert werden, um ein falsches Video zu entfernen.\n",
    "Alternativ kann das Video im Ordner gelöscht werden und die Datenpunkte neu extrahiert werden. ✏️\n",
    "'''\n",
    "# videos_raw.remove(videos_raw[144])"
   ]
  },
  {
   "cell_type": "markdown",
   "metadata": {},
   "source": [
    "## 3.5 Features und Labels definieren"
   ]
  },
  {
   "cell_type": "code",
   "execution_count": 74,
   "metadata": {},
   "outputs": [
    {
     "data": {
      "text/plain": [
       "(142748, 10, 63)"
      ]
     },
     "execution_count": 74,
     "metadata": {},
     "output_type": "execute_result"
    }
   ],
   "source": [
    "# Features bestimmen\n",
    "X = np.asarray(videos_original)\n",
    "X.shape"
   ]
  },
  {
   "cell_type": "code",
   "execution_count": 75,
   "metadata": {},
   "outputs": [
    {
     "data": {
      "text/plain": [
       "(142748,)"
      ]
     },
     "execution_count": 75,
     "metadata": {},
     "output_type": "execute_result"
    }
   ],
   "source": [
    "# Labels setzen\n",
    "y = np.array(labels_original)\n",
    "\n",
    "y.shape"
   ]
  },
  {
   "cell_type": "code",
   "execution_count": 76,
   "metadata": {},
   "outputs": [
    {
     "data": {
      "text/plain": [
       "(5741, 10, 63)"
      ]
     },
     "execution_count": 76,
     "metadata": {},
     "output_type": "execute_result"
    }
   ],
   "source": [
    "# Features bestimmen\n",
    "X_train_salome = np.asarray(videos_augmented)\n",
    "X_train_salome.shape"
   ]
  },
  {
   "cell_type": "code",
   "execution_count": 77,
   "metadata": {},
   "outputs": [
    {
     "data": {
      "text/plain": [
       "(5741,)"
      ]
     },
     "execution_count": 77,
     "metadata": {},
     "output_type": "execute_result"
    }
   ],
   "source": [
    "# Labels setzen\n",
    "y_train_salome = np.array(labels_augmented)\n",
    "\n",
    "y_train_salome.shape"
   ]
  },
  {
   "cell_type": "code",
   "execution_count": 78,
   "metadata": {},
   "outputs": [],
   "source": [
    "# Daten in ein Trainings- und Testset unterteilen\n",
    "X_train, X_test, y_train, y_test = train_test_split(X, y, test_size=0.3, stratify=y, random_state=4)"
   ]
  },
  {
   "cell_type": "code",
   "execution_count": 79,
   "metadata": {},
   "outputs": [],
   "source": [
    "\"\"\" \n",
    "Augmentierte Daten werden dem Trainingsset hinzugefügt \n",
    "\"\"\"\n",
    "# Concatenate the additional data with the existing X_train and y_train\n",
    "X_train = np.concatenate((X_train, X_train_salome), axis=0)\n",
    "y_train = np.concatenate((y_train, y_train_salome), axis=0)\n",
    "\n",
    "# Ensure the shape of X_train and y_train matches after concatenation\n",
    "assert X_train.shape[0] == y_train.shape[0]\n",
    "\n",
    "# Optionally, shuffle the concatenated data\n",
    "indices = np.arange(X_train.shape[0])\n",
    "np.random.shuffle(indices)\n",
    "X_train = X_train[indices]\n",
    "y_train = y_train[indices] "
   ]
  },
  {
   "cell_type": "code",
   "execution_count": 80,
   "metadata": {},
   "outputs": [],
   "source": [
    "# Daten in ein Trainings- und Testset unterteilen\n",
    "X_validate, X_test, y_validate, y_test = train_test_split(X_test, y_test, test_size=0.5, stratify=y_test, random_state=2)"
   ]
  },
  {
   "cell_type": "code",
   "execution_count": 81,
   "metadata": {},
   "outputs": [
    {
     "data": {
      "text/plain": [
       "0.5771260449259795"
      ]
     },
     "execution_count": 81,
     "metadata": {},
     "output_type": "execute_result"
    }
   ],
   "source": [
    "# Verteilung der Testdaten\n",
    "np.mean(y_test)"
   ]
  },
  {
   "cell_type": "markdown",
   "metadata": {},
   "source": [
    "# 4. Modelle trainieren"
   ]
  },
  {
   "cell_type": "markdown",
   "metadata": {},
   "source": [
    "## 4.1 LSTM"
   ]
  },
  {
   "cell_type": "code",
   "execution_count": 82,
   "metadata": {},
   "outputs": [],
   "source": [
    "def define_lstm_model(input_shape, n_neurons=1):\n",
    "    lstm_model = keras.Sequential()\n",
    "    lstm_model.add(layers.LSTM(n_neurons, activation='relu', input_shape=input_shape))\n",
    "    lstm_model.add(layers.Dense(1, activation='sigmoid'))\n",
    "    return lstm_model"
   ]
  },
  {
   "cell_type": "markdown",
   "metadata": {},
   "source": [
    "## 4.2 RNN"
   ]
  },
  {
   "cell_type": "code",
   "execution_count": 83,
   "metadata": {},
   "outputs": [],
   "source": [
    "def define_rnn_model(input_shape, n_neurons=1):\n",
    "    rnn_model = keras.Sequential()\n",
    "    rnn_model.add(layers.SimpleRNN(n_neurons, activation='relu', input_shape=input_shape))\n",
    "    rnn_model.add(layers.Dense(1, activation='sigmoid'))\n",
    "    return rnn_model"
   ]
  },
  {
   "cell_type": "markdown",
   "metadata": {},
   "source": [
    "## 4.3 Modell anwenden"
   ]
  },
  {
   "cell_type": "code",
   "execution_count": 84,
   "metadata": {},
   "outputs": [
    {
     "name": "stderr",
     "output_type": "stream",
     "text": [
      "/Library/Frameworks/Python.framework/Versions/3.11/lib/python3.11/site-packages/keras/src/layers/rnn/rnn.py:204: UserWarning: Do not pass an `input_shape`/`input_dim` argument to a layer. When using Sequential models, prefer using an `Input(shape)` object as the first layer in the model instead.\n",
      "  super().__init__(**kwargs)\n"
     ]
    }
   ],
   "source": [
    "'''\n",
    "Gewünschtes Modell erstellen\n",
    "\n",
    "Auskommentieren und Anzahl Neuronen anpassen (n_neurons)\n",
    "input_shape wird automatisch übernommen\n",
    "'''\n",
    "# Anzahl Neuronen bestimmen ✏️\n",
    "n_neurons=64\n",
    "\n",
    "# LSTM\n",
    "# model = define_lstm_model(n_neurons=n_neurons, input_shape=X.shape[1:])\n",
    "\n",
    "# RNN\n",
    "model = define_rnn_model(n_neurons=n_neurons, input_shape=X.shape[1:])"
   ]
  },
  {
   "cell_type": "code",
   "execution_count": 85,
   "metadata": {},
   "outputs": [],
   "source": [
    "# Modell kompilieren\n",
    "model.compile(\n",
    "    loss='binary_crossentropy',\n",
    "    optimizer=\"Adam\",\n",
    "    metrics=['accuracy'],\n",
    ")"
   ]
  },
  {
   "cell_type": "code",
   "execution_count": 86,
   "metadata": {},
   "outputs": [
    {
     "data": {
      "text/plain": [
       "(105664, 10, 63)"
      ]
     },
     "execution_count": 86,
     "metadata": {},
     "output_type": "execute_result"
    }
   ],
   "source": [
    "X_train.shape"
   ]
  },
  {
   "cell_type": "code",
   "execution_count": null,
   "metadata": {},
   "outputs": [],
   "source": [
    "# Modell trainieren\n",
    "model.fit(\n",
    "    X_train, y_train, validation_data=(X_validate, y_validate), epochs=1000\n",
    ")\n",
    "# validation_data=(X_validate, y_validate),"
   ]
  },
  {
   "cell_type": "code",
   "execution_count": 88,
   "metadata": {},
   "outputs": [
    {
     "data": {
      "text/html": [
       "<pre style=\"white-space:pre;overflow-x:auto;line-height:normal;font-family:Menlo,'DejaVu Sans Mono',consolas,'Courier New',monospace\"><span style=\"font-weight: bold\">Model: \"sequential_1\"</span>\n",
       "</pre>\n"
      ],
      "text/plain": [
       "\u001b[1mModel: \"sequential_1\"\u001b[0m\n"
      ]
     },
     "metadata": {},
     "output_type": "display_data"
    },
    {
     "data": {
      "text/html": [
       "<pre style=\"white-space:pre;overflow-x:auto;line-height:normal;font-family:Menlo,'DejaVu Sans Mono',consolas,'Courier New',monospace\">┏━━━━━━━━━━━━━━━━━━━━━━━━━━━━━━━━━┳━━━━━━━━━━━━━━━━━━━━━━━━┳━━━━━━━━━━━━━━━┓\n",
       "┃<span style=\"font-weight: bold\"> Layer (type)                    </span>┃<span style=\"font-weight: bold\"> Output Shape           </span>┃<span style=\"font-weight: bold\">       Param # </span>┃\n",
       "┡━━━━━━━━━━━━━━━━━━━━━━━━━━━━━━━━━╇━━━━━━━━━━━━━━━━━━━━━━━━╇━━━━━━━━━━━━━━━┩\n",
       "│ simple_rnn_1 (<span style=\"color: #0087ff; text-decoration-color: #0087ff\">SimpleRNN</span>)        │ (<span style=\"color: #00d7ff; text-decoration-color: #00d7ff\">None</span>, <span style=\"color: #00af00; text-decoration-color: #00af00\">64</span>)             │         <span style=\"color: #00af00; text-decoration-color: #00af00\">8,192</span> │\n",
       "├─────────────────────────────────┼────────────────────────┼───────────────┤\n",
       "│ dense_1 (<span style=\"color: #0087ff; text-decoration-color: #0087ff\">Dense</span>)                 │ (<span style=\"color: #00d7ff; text-decoration-color: #00d7ff\">None</span>, <span style=\"color: #00af00; text-decoration-color: #00af00\">1</span>)              │            <span style=\"color: #00af00; text-decoration-color: #00af00\">65</span> │\n",
       "└─────────────────────────────────┴────────────────────────┴───────────────┘\n",
       "</pre>\n"
      ],
      "text/plain": [
       "┏━━━━━━━━━━━━━━━━━━━━━━━━━━━━━━━━━┳━━━━━━━━━━━━━━━━━━━━━━━━┳━━━━━━━━━━━━━━━┓\n",
       "┃\u001b[1m \u001b[0m\u001b[1mLayer (type)                   \u001b[0m\u001b[1m \u001b[0m┃\u001b[1m \u001b[0m\u001b[1mOutput Shape          \u001b[0m\u001b[1m \u001b[0m┃\u001b[1m \u001b[0m\u001b[1m      Param #\u001b[0m\u001b[1m \u001b[0m┃\n",
       "┡━━━━━━━━━━━━━━━━━━━━━━━━━━━━━━━━━╇━━━━━━━━━━━━━━━━━━━━━━━━╇━━━━━━━━━━━━━━━┩\n",
       "│ simple_rnn_1 (\u001b[38;5;33mSimpleRNN\u001b[0m)        │ (\u001b[38;5;45mNone\u001b[0m, \u001b[38;5;34m64\u001b[0m)             │         \u001b[38;5;34m8,192\u001b[0m │\n",
       "├─────────────────────────────────┼────────────────────────┼───────────────┤\n",
       "│ dense_1 (\u001b[38;5;33mDense\u001b[0m)                 │ (\u001b[38;5;45mNone\u001b[0m, \u001b[38;5;34m1\u001b[0m)              │            \u001b[38;5;34m65\u001b[0m │\n",
       "└─────────────────────────────────┴────────────────────────┴───────────────┘\n"
      ]
     },
     "metadata": {},
     "output_type": "display_data"
    },
    {
     "data": {
      "text/html": [
       "<pre style=\"white-space:pre;overflow-x:auto;line-height:normal;font-family:Menlo,'DejaVu Sans Mono',consolas,'Courier New',monospace\"><span style=\"font-weight: bold\"> Total params: </span><span style=\"color: #00af00; text-decoration-color: #00af00\">24,773</span> (96.77 KB)\n",
       "</pre>\n"
      ],
      "text/plain": [
       "\u001b[1m Total params: \u001b[0m\u001b[38;5;34m24,773\u001b[0m (96.77 KB)\n"
      ]
     },
     "metadata": {},
     "output_type": "display_data"
    },
    {
     "data": {
      "text/html": [
       "<pre style=\"white-space:pre;overflow-x:auto;line-height:normal;font-family:Menlo,'DejaVu Sans Mono',consolas,'Courier New',monospace\"><span style=\"font-weight: bold\"> Trainable params: </span><span style=\"color: #00af00; text-decoration-color: #00af00\">8,257</span> (32.25 KB)\n",
       "</pre>\n"
      ],
      "text/plain": [
       "\u001b[1m Trainable params: \u001b[0m\u001b[38;5;34m8,257\u001b[0m (32.25 KB)\n"
      ]
     },
     "metadata": {},
     "output_type": "display_data"
    },
    {
     "data": {
      "text/html": [
       "<pre style=\"white-space:pre;overflow-x:auto;line-height:normal;font-family:Menlo,'DejaVu Sans Mono',consolas,'Courier New',monospace\"><span style=\"font-weight: bold\"> Non-trainable params: </span><span style=\"color: #00af00; text-decoration-color: #00af00\">0</span> (0.00 B)\n",
       "</pre>\n"
      ],
      "text/plain": [
       "\u001b[1m Non-trainable params: \u001b[0m\u001b[38;5;34m0\u001b[0m (0.00 B)\n"
      ]
     },
     "metadata": {},
     "output_type": "display_data"
    },
    {
     "data": {
      "text/html": [
       "<pre style=\"white-space:pre;overflow-x:auto;line-height:normal;font-family:Menlo,'DejaVu Sans Mono',consolas,'Courier New',monospace\"><span style=\"font-weight: bold\"> Optimizer params: </span><span style=\"color: #00af00; text-decoration-color: #00af00\">16,516</span> (64.52 KB)\n",
       "</pre>\n"
      ],
      "text/plain": [
       "\u001b[1m Optimizer params: \u001b[0m\u001b[38;5;34m16,516\u001b[0m (64.52 KB)\n"
      ]
     },
     "metadata": {},
     "output_type": "display_data"
    }
   ],
   "source": [
    "model.summary()"
   ]
  },
  {
   "cell_type": "markdown",
   "metadata": {},
   "source": [
    "### Modell speichern ✏️"
   ]
  },
  {
   "cell_type": "code",
   "execution_count": 89,
   "metadata": {},
   "outputs": [],
   "source": [
    "# model_name = 'models/LSTM/lstm_a_cv_'\n",
    "# model_name = 'models/RNN/rnn_a_cv_'\n",
    "# model_name = 'models/sliding_window/sw_lstm_a_cv_'\n",
    "model_name = 'models/sliding_window/sw_rnn_a_cv_'\n",
    "\n",
    "# Wenn das Modell gespeichert werden soll, folgende Zeile auskommentieren:\n",
    "# LEGACY\n",
    "# model.save(model_name + str(X.shape[1]) + 'f_' + str(n_neurons) + 'n/' + 'model.h5')\n",
    "\n",
    "model.save(model_name + str(X.shape[1]) + 'f_' + str(n_neurons) + 'n/' + 'my_model.keras')"
   ]
  },
  {
   "cell_type": "markdown",
   "metadata": {},
   "source": [
    "## 4.4 Hyperparametertuning"
   ]
  },
  {
   "cell_type": "code",
   "execution_count": 90,
   "metadata": {},
   "outputs": [],
   "source": [
    "'''\n",
    "Hyperparametertuning\n",
    "\n",
    "Diese Funktion findet die Anzahl an Neuronen, welche das beste Resultat liefert.\n",
    "'''\n",
    "def tune_hyperparameters(untuned_model):\n",
    "    # Regressor mit dem mitgegebenen Modell erstellen\n",
    "    keras_regressor = keras.wrappers.scikit_learn.KerasRegressor(untuned_model)\n",
    "\n",
    "    # Eine Suche mit dem Regressor erstellen. Es werden Werte der Neuronen zwischen 1 und 128 ausgewertet.\n",
    "    randomized_search_cv = RandomizedSearchCV(\n",
    "        keras_regressor,\n",
    "        {\"n_neurons\": np.arange(1, 128)},\n",
    "        n_iter=10,\n",
    "        cv=3\n",
    "    )\n",
    "    \n",
    "    randomized_search_cv.fit(X_train, y_train, validation_data=(X_validate, y_validate), epochs=1000)\n",
    "    \n",
    "    print(randomized_search_cv.best_params_)\n",
    "    \n",
    "    return randomized_search_cv.best_estimator_.model"
   ]
  },
  {
   "cell_type": "code",
   "execution_count": 91,
   "metadata": {},
   "outputs": [],
   "source": [
    "# Auskommentieren und Modell anpassen, um das beste Modell zu finden und zu speichern ✏️\n",
    "# best_model = tune_hyperparameters(untuned_model=define_lstm_model)\n",
    "# best_model.save('models/best_model')"
   ]
  },
  {
   "cell_type": "markdown",
   "metadata": {},
   "source": [
    "# 5. Predictions"
   ]
  },
  {
   "cell_type": "code",
   "execution_count": 92,
   "metadata": {},
   "outputs": [],
   "source": [
    "# Auskommentieren und ein bestimmtes Modell zu laden ✏️\n",
    "# model = keras.models.load_model('models/RNN/rnn_a_cv_21f_32n')"
   ]
  },
  {
   "cell_type": "code",
   "execution_count": 93,
   "metadata": {},
   "outputs": [
    {
     "name": "stdout",
     "output_type": "stream",
     "text": [
      "\u001b[1m670/670\u001b[0m \u001b[32m━━━━━━━━━━━━━━━━━━━━\u001b[0m\u001b[37m\u001b[0m \u001b[1m0s\u001b[0m 506us/step\n"
     ]
    },
    {
     "data": {
      "text/plain": [
       "array([[1.0000000e+00],\n",
       "       [1.0000000e+00],\n",
       "       [1.0000000e+00],\n",
       "       ...,\n",
       "       [2.1799360e-03],\n",
       "       [1.0000000e+00],\n",
       "       [3.2184005e-04]], dtype=float32)"
      ]
     },
     "execution_count": 93,
     "metadata": {},
     "output_type": "execute_result"
    }
   ],
   "source": [
    "result = model.predict(X_test)\n",
    "\n",
    "result"
   ]
  },
  {
   "cell_type": "markdown",
   "metadata": {},
   "source": [
    "# 6. Evaluation"
   ]
  },
  {
   "cell_type": "code",
   "execution_count": 94,
   "metadata": {},
   "outputs": [
    {
     "name": "stdout",
     "output_type": "stream",
     "text": [
      "In-Sample Accuracy: 99.35%\n",
      "Out-of-Sample Accuracy: 99.24%\n"
     ]
    }
   ],
   "source": [
    "scores = model.evaluate(X_train, y_train, verbose=0)\n",
    "print(\"In-Sample Accuracy: %.2f%%\" % (scores[1]*100))\n",
    "scores = model.evaluate(X_test, y_test, verbose=0)\n",
    "print(\"Out-of-Sample Accuracy: %.2f%%\" % (scores[1]*100))"
   ]
  },
  {
   "cell_type": "code",
   "execution_count": 95,
   "metadata": {},
   "outputs": [],
   "source": [
    "result = (result > 0.5).flatten()\n",
    "actual = y_test > 0.5"
   ]
  },
  {
   "cell_type": "code",
   "execution_count": 96,
   "metadata": {},
   "outputs": [
    {
     "data": {
      "text/plain": [
       "array([[ 9001,    54],\n",
       "       [  108, 12250]])"
      ]
     },
     "execution_count": 96,
     "metadata": {},
     "output_type": "execute_result"
    }
   ],
   "source": [
    "confusion_matrix(actual, result)"
   ]
  },
  {
   "cell_type": "markdown",
   "metadata": {},
   "source": [
    "## Evaluation eines einzelnen Videos"
   ]
  },
  {
   "cell_type": "code",
   "execution_count": 97,
   "metadata": {},
   "outputs": [],
   "source": [
    "# Gewünschtes Sliding-Window-Modell auskommentieren ✏️\n",
    "\n",
    "model = keras.models.load_model('models/sliding_window/sw_rnn_a_cv_5f_64n/my_model.keras')\n",
    "# model = keras.models.load_model('models/sliding_window/sw_lstm_a_cv_5f_64n')\n",
    "\n",
    "# model = keras.layers.TFSMLayer('models/sliding_window/sw_rnn_a_cv_10f_64n')\n",
    "# model = keras.models.load_model('models/sliding_window/sw_rnn_a_cv_77f_64n/my_model.keras')\n",
    "# model = keras.models.load_model('models/sliding_window/sw_lstm_a_cv_10f_64n')\n",
    "# model = keras.models.load_model('models/sliding_window/sw_rnn_a_cv_20f_64n')\n",
    "# model = keras.models.load_model('models/sliding_window/sw_lstm_a_cv_20f_64n')"
   ]
  },
  {
   "cell_type": "code",
   "execution_count": 98,
   "metadata": {},
   "outputs": [],
   "source": [
    "'''\n",
    "Video klassifizieren\n",
    "\n",
    "Diese Funktion berechnet für ein Video die Kompensationswahrscheinlichkeit\n",
    "\n",
    "Input:\n",
    "video_index: Index des Videos\n",
    "window_size: Grösse der Sliding Windows\n",
    "\n",
    "Output: Liste mit Wahrscheinlichkeiten für alle Sliding Windows der Videos\n",
    "'''\n",
    "def predict_video(video_index, window_size=5):\n",
    "    return model.predict(np.array(create_sliding_windows(remap_raw_videos([videos_raw[video_index]]), window_size)[0]))"
   ]
  }
 ],
 "metadata": {
  "kernelspec": {
   "display_name": "Python 3",
   "language": "python",
   "name": "python3"
  },
  "language_info": {
   "codemirror_mode": {
    "name": "ipython",
    "version": 3
   },
   "file_extension": ".py",
   "mimetype": "text/x-python",
   "name": "python",
   "nbconvert_exporter": "python",
   "pygments_lexer": "ipython3",
   "version": "3.11.3"
  }
 },
 "nbformat": 4,
 "nbformat_minor": 4
}
